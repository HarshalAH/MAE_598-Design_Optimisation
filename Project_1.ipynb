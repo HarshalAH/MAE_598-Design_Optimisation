{
  "nbformat": 4,
  "nbformat_minor": 0,
  "metadata": {
    "colab": {
      "name": "Project_1.ipynb",
      "provenance": [],
      "collapsed_sections": []
    },
    "kernelspec": {
      "name": "python3",
      "display_name": "Python 3"
    },
    "language_info": {
      "name": "python"
    }
  },
  "cells": [
    {
      "cell_type": "code",
      "metadata": {
        "id": "uCIGZviWTtvp"
      },
      "source": [
        ""
      ],
      "execution_count": null,
      "outputs": []
    },
    {
      "cell_type": "code",
      "metadata": {
        "id": "5VptJ5ysUAGe"
      },
      "source": [
        "# overhead\n",
        "\n",
        "import logging\n",
        "import math\n",
        "import random\n",
        "import numpy as np\n",
        "import time\n",
        "import torch as t\n",
        "import torch.nn as nn\n",
        "from torch import optim\n",
        "from torch.nn import utils\n",
        "import matplotlib.pyplot as plt\n",
        "\n",
        "logger = logging.getLogger(__name__)\n",
        "\n",
        "\n",
        "# environment parameters\n",
        "\n",
        "FRAME_TIME = 0.1  # time interval\n",
        "GRAVITY_ACCEL = -9.81  # gravity constant\n",
        "BOOST_ACCEL = 23  # thrust constant\n",
        "ROTATION_ACCEL = 65*math.pi/180"
      ],
      "execution_count": 9,
      "outputs": []
    },
    {
      "cell_type": "code",
      "metadata": {
        "id": "BliTA2Wse5QH"
      },
      "source": [
        "# define system dynamics\n",
        "class Dynamics(nn.Module):\n",
        "\n",
        "    def __init__(self):\n",
        "        super(Dynamics, self).__init__()\n",
        "\n",
        "    @staticmethod\n",
        "    def forward(state, action):\n",
        "\n",
        "        \"\"\"\n",
        "        action[0] = Thrust in y\n",
        "        action[1] = Thrust in x\n",
        "        action[2] = Rotational thrust\n",
        "\n",
        "        state[0] = y\n",
        "        state[1] = y_vel\n",
        "        state[2] = x\n",
        "        state[3] = x_vel\n",
        "        state[4] = orientation\n",
        "        state[5] = rot_vel\n",
        "        \"\"\"\n",
        "        \n",
        "        # Apply gravity\n",
        "        delta_state_gravity = t.tensor([0., GRAVITY_ACCEL * FRAME_TIME, 0., 0.,0.,0.])\n",
        "\n",
        "\n",
        "        delta_state_y = BOOST_ACCEL * FRAME_TIME * t.tensor([0., t.cos(state[4]), 0., 0.,0.,0.]) * action[0] \n",
        "        \n",
        "        delta_state_x = BOOST_ACCEL * FRAME_TIME * t.tensor([0.,0., 0., t.sin(state[4]),0.,0.]) * action[1]  \n",
        "\n",
        "        delta_state_rotation = ROTATION_ACCEL * FRAME_TIME * t.tensor([0., 0., 0., 0., 0., 1.]) * action[2]\n",
        "\n",
        "        redundancy_var = delta_state_y\n",
        "\n",
        "        #Drag\n",
        "        \"\"\"\n",
        "          We know that Drag force is given by the formula: Df= (Co-eff of Drag * Denisty of material * Area * Velocity^2)/2\n",
        "          Assumptions: Taking GSLV Mk III [ISRO:- Indian Space Research Organisation]\n",
        "          Co-efficient of Drag =  0.295 //taken from internet\n",
        "          Area = 1.6*1.6*pi = 8.0457\n",
        "          Density = 4420 kg/m^3\n",
        "          mass= 3,22,379 Kg (Chandrayan Indian Project)\n",
        "\n",
        "          Drag Force = 0.5 * 0.295 * 8.0457 * 4420 * vel^2 \n",
        "          Drag Force = 5245.394 * Vel^2\n",
        "\n",
        "\n",
        "          Rev Acceleration due to Drag =  Drag_Force/ mass = 0.01627 * Vel^2\n",
        "        \"\"\"\n",
        "\n",
        "        DRAG_DECEL = 0.01627 * redundancy_var * redundancy_var\n",
        "\n",
        "        NET_ACCEL = BOOST_ACCEL - DRAG_DECEL\n",
        "\n",
        "        delta_state_yn = NET_ACCEL * FRAME_TIME * t.tensor([0., t.cos(state[4]), 0., 0.,0.,0.]) * action[0] \n",
        "\n",
        "\n",
        "        state = state + delta_state_yn + delta_state_x + delta_state_rotation + delta_state_gravity\n",
        "\n",
        "        step_mat = t.tensor([[1., FRAME_TIME, 0., 0., 0., 0.],\n",
        "                            [0., 1., 0., 0., 0., 0.],\n",
        "                            [0., 0., 1., FRAME_TIME, 0., 0.],\n",
        "                            [0., 0., 0., 1., 0., 0.],\n",
        "                            [0., 0., 0., 0., 1., FRAME_TIME],\n",
        "                            [0., 0., 0., 0., 0., 1.]])\n",
        "        state = t.matmul(step_mat, state)\n",
        "\n",
        "        return state \n",
        "      "
      ],
      "execution_count": 19,
      "outputs": []
    },
    {
      "cell_type": "code",
      "metadata": {
        "id": "7ck9s2aAMCSg"
      },
      "source": [
        "class Controller(nn.Module):\n",
        "\n",
        "    def __init__(self, dim_input, dim_hidden, dim_output):\n",
        "        \"\"\"\n",
        "        dim_input: # of system states\n",
        "        dim_output: # of actions\n",
        "        dim_hidden: up to you\n",
        "        \"\"\"\n",
        "        super(Controller, self).__init__()\n",
        "        self.network = nn.Sequential(\n",
        "            nn.Linear(dim_input, dim_hidden),\n",
        "            nn.Sigmoid(),\n",
        "            nn.Linear(dim_hidden, dim_output),\n",
        "            # You can add more layers here\n",
        "            nn.Tanh()\n",
        "        )\n",
        "\n",
        "    def forward(self, state):\n",
        "        action = self.network(state)\n",
        "        return action"
      ],
      "execution_count": 20,
      "outputs": []
    },
    {
      "cell_type": "code",
      "metadata": {
        "id": "n-Jt5REnOZxM"
      },
      "source": [
        "class Simulation(nn.Module):\n",
        "\n",
        "    def __init__(self, controller, dynamics, T):\n",
        "        super(Simulation, self).__init__()\n",
        "        self.state = self.initialize_state()\n",
        "        self.controller = controller\n",
        "        self.dynamics = dynamics\n",
        "        self.T = T\n",
        "        self.action_trajectory = []\n",
        "        self.state_trajectory = []\n",
        "\n",
        "    def forward(self, state):\n",
        "        self.action_trajectory = []\n",
        "        self.state_trajectory = []\n",
        "        for _ in range(T):\n",
        "            action = self.controller.forward(state)\n",
        "            state = self.dynamics.forward(state, action)\n",
        "            self.action_trajectory.append(action)\n",
        "            self.state_trajectory.append(state)\n",
        "        return self.error(state)\n",
        "\n",
        "    @staticmethod\n",
        "    def initialize_state():\n",
        "                state = [10., 0., 5., 0.,0.,0.]  # TODO: need batch of initial states\n",
        "                return t.tensor(state, requires_grad=False).float()\n",
        "\n",
        "    def error(self, state):\n",
        "      loss = t.sum(t.square(state))\n",
        "      return loss"
      ],
      "execution_count": 25,
      "outputs": []
    },
    {
      "cell_type": "code",
      "metadata": {
        "id": "TJclC0bKP4s2"
      },
      "source": [
        "class Optimize:\n",
        "    def __init__(self, simulation):\n",
        "        self.simulation = simulation\n",
        "        self.parameters = simulation.controller.parameters()\n",
        "        self.optimizer = optim.LBFGS(self.parameters, lr=0.01)\n",
        "\n",
        "    def step(self):\n",
        "        def closure():\n",
        "            loss = self.simulation(self.simulation.state)\n",
        "            self.optimizer.zero_grad()\n",
        "            loss.backward()\n",
        "            return loss\n",
        "        self.optimizer.step(closure)\n",
        "        return closure()\n",
        "    \n",
        "    def train(self, epochs):\n",
        "        for epoch in range(epochs):\n",
        "            loss = self.step()\n",
        "            print('- - - - - - - - - - - - - - - - - - - - - - - - - - - - - - - - - - - - - - - - - - - - - - - - - - - - - - - -')\n",
        "            print('[%d] loss: %.3f' % (epoch + 1, loss))\n",
        "            self.visualize()\n",
        "\n",
        "        def visualize(self):\n",
        "        # Establishing data arrays to plot\n",
        "          statedata = np.array([self.simulation.state_trajectory[i].detach().numpy() for i in range(self.simulation.T)])\n",
        "          actiondata = np.array([self.simulation.action_trajectory[i].detach().numpy() for i in range(self.simulation.T)])\n",
        "          Time = FRAME_TIME * np.linspace(0,T,T)\n",
        "          x = statedata[:, 0]\n",
        "          xdot = statedata[:, 1]\n",
        "          y = statedata[:, 2]\n",
        "          ydot = statedata[:, 3]\n",
        "          rot = statedata[:, 4]\n",
        "          rotdot = statedata[:, 5]\n",
        "          thrust = actiondata[:, 0]\n",
        "          rotthrust = actiondata[:,1]\n",
        "        \n",
        "          # Creating the plot for each of the state variables\n",
        "          f1 = plt.figure()\n",
        "          ax1 = f1.add_subplot(111)\n",
        "          ax1.plot(Time, y, label = 'y position')\n",
        "          ax1.plot(Time, ydot, label = 'ydot')\n",
        "          ax1.plot(Time, x, label = 'x position')\n",
        "          ax1.plot(Time, xdot, label = 'xdot')\n",
        "          ax1.plot(Time, rot, label = 'rot')\n",
        "          ax1.plot(Time, rotdot, label = 'rotdot')\n",
        "          plt.xlabel('Time, s')\n",
        "          plt.ylabel('State Variables')\n",
        "          plt.title('State Variables vs. Time')\n",
        "          plt.grid(True)\n",
        "          ax1.legend(bbox_to_anchor=(1.05, 1), loc='upper left', borderaxespad=0.)\n",
        "        \n",
        "          # Creating the plot for each of the action variables\n",
        "          f2 = plt.figure()\n",
        "          ax2 = f2.add_subplot(111)\n",
        "          ax2.plot(Time, thrust, label = 'thrust')\n",
        "          ax2.plot(Time, rotthrust, label = 'rotthrust')\n",
        "          plt.xlabel('Time, s')\n",
        "          plt.ylabel('Action Variables')\n",
        "          plt.title('Action Variables vs. Time')\n",
        "          plt.grid(True)\n",
        "          ax2.legend(bbox_to_anchor=(1.05, 1), loc='upper left', borderaxespad=0.)\n",
        "        \n",
        "          plt.show()"
      ],
      "execution_count": 37,
      "outputs": []
    },
    {
      "cell_type": "code",
      "metadata": {
        "colab": {
          "base_uri": "https://localhost:8080/",
          "height": 357
        },
        "id": "ISBYbmZdYUNK",
        "outputId": "53c10369-46f6-44c9-fe8b-857f32779e4f"
      },
      "source": [
        "# Now it's time to run the code!\n",
        "T = 100  # number of time steps\n",
        "dim_input = 6  # state space dimensions\n",
        "dim_hidden = 6  # latent dimensions\n",
        "dim_output = 3  # action space dimensions\n",
        "d = Dynamics()  # define dynamics\n",
        "c = Controller(dim_input, dim_hidden, dim_output)  # define controller\n",
        "s = Simulation(c, d, T)  # define simulation\n",
        "o = Optimize(s)  # define optimizer\n",
        "o.train(81)  # solve the optimization problem"
      ],
      "execution_count": 38,
      "outputs": [
        {
          "output_type": "stream",
          "name": "stdout",
          "text": [
            "- - - - - - - - - - - - - - - - - - - - - - - - - - - - - - - - - - - - - - - - - - - - - - - - - - - - - - - -\n",
            "[1] loss: 494199.531\n"
          ]
        },
        {
          "output_type": "error",
          "ename": "AttributeError",
          "evalue": "ignored",
          "traceback": [
            "\u001b[0;31m---------------------------------------------------------------------------\u001b[0m",
            "\u001b[0;31mAttributeError\u001b[0m                            Traceback (most recent call last)",
            "\u001b[0;32m<ipython-input-38-a9d65458f7ab>\u001b[0m in \u001b[0;36m<module>\u001b[0;34m()\u001b[0m\n\u001b[1;32m      8\u001b[0m \u001b[0ms\u001b[0m \u001b[0;34m=\u001b[0m \u001b[0mSimulation\u001b[0m\u001b[0;34m(\u001b[0m\u001b[0mc\u001b[0m\u001b[0;34m,\u001b[0m \u001b[0md\u001b[0m\u001b[0;34m,\u001b[0m \u001b[0mT\u001b[0m\u001b[0;34m)\u001b[0m  \u001b[0;31m# define simulation\u001b[0m\u001b[0;34m\u001b[0m\u001b[0;34m\u001b[0m\u001b[0m\n\u001b[1;32m      9\u001b[0m \u001b[0mo\u001b[0m \u001b[0;34m=\u001b[0m \u001b[0mOptimize\u001b[0m\u001b[0;34m(\u001b[0m\u001b[0ms\u001b[0m\u001b[0;34m)\u001b[0m  \u001b[0;31m# define optimizer\u001b[0m\u001b[0;34m\u001b[0m\u001b[0;34m\u001b[0m\u001b[0m\n\u001b[0;32m---> 10\u001b[0;31m \u001b[0mo\u001b[0m\u001b[0;34m.\u001b[0m\u001b[0mtrain\u001b[0m\u001b[0;34m(\u001b[0m\u001b[0;36m81\u001b[0m\u001b[0;34m)\u001b[0m  \u001b[0;31m# solve the optimization problem\u001b[0m\u001b[0;34m\u001b[0m\u001b[0;34m\u001b[0m\u001b[0m\n\u001b[0m",
            "\u001b[0;32m<ipython-input-37-6b7b181ea9b3>\u001b[0m in \u001b[0;36mtrain\u001b[0;34m(self, epochs)\u001b[0m\n\u001b[1;32m     19\u001b[0m             \u001b[0mprint\u001b[0m\u001b[0;34m(\u001b[0m\u001b[0;34m'- - - - - - - - - - - - - - - - - - - - - - - - - - - - - - - - - - - - - - - - - - - - - - - - - - - - - - - -'\u001b[0m\u001b[0;34m)\u001b[0m\u001b[0;34m\u001b[0m\u001b[0;34m\u001b[0m\u001b[0m\n\u001b[1;32m     20\u001b[0m             \u001b[0mprint\u001b[0m\u001b[0;34m(\u001b[0m\u001b[0;34m'[%d] loss: %.3f'\u001b[0m \u001b[0;34m%\u001b[0m \u001b[0;34m(\u001b[0m\u001b[0mepoch\u001b[0m \u001b[0;34m+\u001b[0m \u001b[0;36m1\u001b[0m\u001b[0;34m,\u001b[0m \u001b[0mloss\u001b[0m\u001b[0;34m)\u001b[0m\u001b[0;34m)\u001b[0m\u001b[0;34m\u001b[0m\u001b[0;34m\u001b[0m\u001b[0m\n\u001b[0;32m---> 21\u001b[0;31m             \u001b[0mself\u001b[0m\u001b[0;34m.\u001b[0m\u001b[0mvisualize\u001b[0m\u001b[0;34m(\u001b[0m\u001b[0;34m)\u001b[0m\u001b[0;34m\u001b[0m\u001b[0;34m\u001b[0m\u001b[0m\n\u001b[0m\u001b[1;32m     22\u001b[0m \u001b[0;34m\u001b[0m\u001b[0m\n\u001b[1;32m     23\u001b[0m         \u001b[0;32mdef\u001b[0m \u001b[0mvisualize\u001b[0m\u001b[0;34m(\u001b[0m\u001b[0mself\u001b[0m\u001b[0;34m)\u001b[0m\u001b[0;34m:\u001b[0m\u001b[0;34m\u001b[0m\u001b[0;34m\u001b[0m\u001b[0m\n",
            "\u001b[0;31mAttributeError\u001b[0m: 'Optimize' object has no attribute 'visualize'"
          ]
        }
      ]
    }
  ]
}