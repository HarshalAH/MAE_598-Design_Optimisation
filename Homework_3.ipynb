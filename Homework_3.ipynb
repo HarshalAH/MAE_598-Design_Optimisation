{
 "cells": [
  {
   "cell_type": "markdown",
   "id": "983357b2",
   "metadata": {},
   "source": [
    "# Problem_1"
   ]
  },
  {
   "cell_type": "code",
   "execution_count": null,
   "id": "c98540ed",
   "metadata": {},
   "outputs": [],
   "source": []
  },
  {
   "cell_type": "markdown",
   "id": "3fa8fdcf",
   "metadata": {},
   "source": [
    "# Problem_2 Bayesian Optimisation"
   ]
  },
  {
   "cell_type": "code",
   "execution_count": 1,
   "id": "3e0a43c6",
   "metadata": {},
   "outputs": [
    {
     "name": "stdout",
     "output_type": "stream",
     "text": [
      "Collecting bayesian-optimization\n",
      "  Downloading bayesian-optimization-1.2.0.tar.gz (14 kB)\n",
      "Requirement already satisfied: numpy>=1.9.0 in c:\\users\\hhattark\\anaconda3\\lib\\site-packages (from bayesian-optimization) (1.20.1)\n",
      "Requirement already satisfied: scipy>=0.14.0 in c:\\users\\hhattark\\anaconda3\\lib\\site-packages (from bayesian-optimization) (1.6.2)\n",
      "Requirement already satisfied: scikit-learn>=0.18.0 in c:\\users\\hhattark\\anaconda3\\lib\\site-packages (from bayesian-optimization) (0.24.1)\n",
      "Requirement already satisfied: threadpoolctl>=2.0.0 in c:\\users\\hhattark\\anaconda3\\lib\\site-packages (from scikit-learn>=0.18.0->bayesian-optimization) (2.1.0)\n",
      "Requirement already satisfied: joblib>=0.11 in c:\\users\\hhattark\\anaconda3\\lib\\site-packages (from scikit-learn>=0.18.0->bayesian-optimization) (1.0.1)\n",
      "Building wheels for collected packages: bayesian-optimization\n",
      "  Building wheel for bayesian-optimization (setup.py): started\n",
      "  Building wheel for bayesian-optimization (setup.py): finished with status 'done'\n",
      "  Created wheel for bayesian-optimization: filename=bayesian_optimization-1.2.0-py3-none-any.whl size=11685 sha256=209414ff25168aa41ec3636f9483e51fc431719ef25ab99583e40329638f9432\n",
      "  Stored in directory: c:\\users\\hhattark\\appdata\\local\\pip\\cache\\wheels\\37\\fa\\19\\f93e793d3944567a60b3ab93b446cf7370cc82c60c1d1c613f\n",
      "Successfully built bayesian-optimization\n",
      "Installing collected packages: bayesian-optimization\n",
      "Successfully installed bayesian-optimization-1.2.0\n",
      "|   iter    |  target   |     x     |     y     |\n",
      "-------------------------------------------------\n",
      "| \u001b[0m 1       \u001b[0m | \u001b[0m 0.265   \u001b[0m | \u001b[0m-0.4979  \u001b[0m | \u001b[0m 0.8813  \u001b[0m |\n",
      "| \u001b[0m 2       \u001b[0m | \u001b[0m-110.1   \u001b[0m | \u001b[0m-2.999   \u001b[0m | \u001b[0m-0.7907  \u001b[0m |\n",
      "| \u001b[0m 3       \u001b[0m | \u001b[0m-0.4933  \u001b[0m | \u001b[0m-0.3849  \u001b[0m | \u001b[0m 1.039   \u001b[0m |\n",
      "| \u001b[0m 4       \u001b[0m | \u001b[0m-0.2833  \u001b[0m | \u001b[0m 1.599   \u001b[0m | \u001b[0m-0.5696  \u001b[0m |\n",
      "| \u001b[0m 5       \u001b[0m | \u001b[0m-162.9   \u001b[0m | \u001b[0m 3.0     \u001b[0m | \u001b[0m 2.0     \u001b[0m |\n",
      "=================================================\n",
      "{'target': 0.2650082867644827, 'params': {'x': -0.4978679717845562, 'y': 0.8812979737686324}}\n"
     ]
    }
   ],
   "source": [
    "!pip install bayesian-optimization\n",
    "\n",
    "from bayes_opt import BayesianOptimization\n",
    "\n",
    "\n",
    "def function(x, y):\n",
    "    return -((4-2.1*x**2+(x**4)/3)*x**2+x*y+(-4+4*y**2)*y**2)\n",
    "pbounds = {'x': (-3, 3), 'y': (-2, 2)}\n",
    "\n",
    "optimizer = BayesianOptimization(f=function,pbounds=pbounds,random_state=1)\n",
    "\n",
    "optimizer.maximize(init_points=2,n_iter=3)\n",
    "print(optimizer.max)"
   ]
  },
  {
   "cell_type": "code",
   "execution_count": null,
   "id": "df900f66",
   "metadata": {},
   "outputs": [],
   "source": []
  }
 ],
 "metadata": {
  "kernelspec": {
   "display_name": "Python 3",
   "language": "python",
   "name": "python3"
  },
  "language_info": {
   "codemirror_mode": {
    "name": "ipython",
    "version": 3
   },
   "file_extension": ".py",
   "mimetype": "text/x-python",
   "name": "python",
   "nbconvert_exporter": "python",
   "pygments_lexer": "ipython3",
   "version": "3.8.8"
  }
 },
 "nbformat": 4,
 "nbformat_minor": 5
}
