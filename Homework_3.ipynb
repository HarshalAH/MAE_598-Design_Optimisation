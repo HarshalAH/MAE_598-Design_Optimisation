{
 "cells": [
  {
   "cell_type": "markdown",
   "id": "7bea1d2d",
   "metadata": {},
   "source": [
    "# Problem_1"
   ]
  },
  {
   "cell_type": "code",
   "execution_count": null,
   "id": "212c78cd",
   "metadata": {},
   "outputs": [],
   "source": []
  },
  {
   "cell_type": "markdown",
   "id": "0e36c15e",
   "metadata": {},
   "source": [
    "# Problem_2 Bayesian Optimisation"
   ]
  },
  {
   "cell_type": "code",
   "execution_count": 11,
   "id": "d210b53c",
   "metadata": {},
   "outputs": [
    {
     "name": "stdout",
     "output_type": "stream",
     "text": [
      "Optima: a=-3.000, x=108.900\n",
      "Optima: b=-2.000, y=3.733\n"
     ]
    },
    {
     "data": {
      "image/png": "[encoded data removed]",
      "text/plain": [
       "<Figure size 432x288 with 1 Axes>"
      ]
     },
     "metadata": {
      "needs_background": "light"
     },
     "output_type": "display_data"
    }
   ],
   "source": [
    "from numpy import arange\n",
    "from numpy import argmax\n",
    "from numpy.random import normal\n",
    "from matplotlib import pyplot\n",
    " \n",
    "# objective function\n",
    "def objective(a, b):\n",
    "\treturn ((4-2.1*a**2+(a**4)/3)*a**2+a*b+(-4+4*b**2)*b**2) \n",
    " \n",
    "# grid-based sample of the domain [-3,3]\n",
    "A = arange(-3, 3, 0.1)\n",
    "# sample the domain without noise\n",
    "x = [objective(a, 0) for a in A]\n",
    "# find best result\n",
    "ia = argmax(x)\n",
    "print('Optima: a=%.3f, x=%.3f' % (A[ia], x[ia]))\n",
    "# plot the points without noise\n",
    "pyplot.scatter(A, x)\n",
    "\n",
    "# grid-based sample of the domain [-2,2]\n",
    "B = arange(-2, 2, 0.1)\n",
    "# sample the domain without noise\n",
    "y = [objective(b, 0) for b in B]\n",
    "# find best result\n",
    "ib = argmax(y)\n",
    "print('Optima: b=%.3f, y=%.3f' % (B[ib], y[ib]))\n",
    "# plot the points without noise\n",
    "pyplot.scatter(B, y)\n",
    "# show the plot\n",
    "pyplot.show()\n",
    "pyplot.show()"
   ]
  },
  {
   "cell_type": "code",
   "execution_count": null,
   "id": "665a41e4",
   "metadata": {},
   "outputs": [],
   "source": [
    "Scrap"
   ]
  },
  {
   "cell_type": "code",
   "execution_count": null,
   "id": "5a71f904",
   "metadata": {},
   "outputs": [],
   "source": []
  },
  {
   "cell_type": "code",
   "execution_count": null,
   "id": "fda52a53",
   "metadata": {},
   "outputs": [],
   "source": [
    "    "
   ]
  }
 ],
 "metadata": {
  "kernelspec": {
   "display_name": "Python 3",
   "language": "python",
   "name": "python3"
  },
  "language_info": {
   "codemirror_mode": {
    "name": "ipython",
    "version": 3
   },
   "file_extension": ".py",
   "mimetype": "text/x-python",
   "name": "python",
   "nbconvert_exporter": "python",
   "pygments_lexer": "ipython3",
   "version": "3.8.8"
  }
 },
 "nbformat": 4,
 "nbformat_minor": 5
}
