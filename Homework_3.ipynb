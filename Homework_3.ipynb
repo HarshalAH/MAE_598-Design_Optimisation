{
 "cells": [
  {
   "cell_type": "markdown",
   "id": "6c351d4f",
   "metadata": {},
   "source": [
    "# Problem_1"
   ]
  },
  {
   "cell_type": "code",
   "execution_count": 39,
   "id": "11ff5e5a",
   "metadata": {},
   "outputs": [
    {
     "name": "stdout",
     "output_type": "stream",
     "text": [
      "[1.9584178 1.6891868]\n",
      "0.00071549066\n",
      "P_Optimised 1  = 28.824099527405245\n",
      "P_Measured 1 = 28.1\n",
      "Error  P 1  value = -0.7240995274052437\n",
      "P_Optimised 2  = 34.64431172371921\n",
      "P_Measured 2 = 34.4\n",
      "Error  P 2  value = -0.24431172371921406\n",
      "P_Optimised 3  = 36.45296597609965\n",
      "P_Measured 3 = 36.7\n",
      "Error  P 3  value = 0.24703402390035478\n",
      "P_Optimised 4  = 36.86731324695646\n",
      "P_Measured 4 = 36.9\n",
      "Error  P 4  value = 0.03268675304353508\n",
      "P_Optimised 5  = 36.87400644103766\n",
      "P_Measured 5 = 36.8\n",
      "Error  P 5  value = -0.07400644103766041\n",
      "P_Optimised 6  = 36.74983464830966\n",
      "P_Measured 6 = 36.7\n",
      "Error  P 6  value = -0.04983464830965545\n",
      "P_Optimised 7  = 36.3904500350543\n",
      "P_Measured 7 = 36.5\n",
      "Error  P 7  value = 0.10954996494569968\n",
      "P_Optimised 8  = 35.38482355380221\n",
      "P_Measured 8 = 35.4\n",
      "Error  P 8  value = 0.015176446197791904\n",
      "P_Optimised 9  = 32.947786549186844\n",
      "P_Measured 9 = 32.9\n",
      "Error  P 9  value = -0.04778654918684566\n",
      "P_Optimised 10  = 27.730002092297866\n",
      "P_Measured 10 = 27.7\n",
      "Error  P 10  value = -0.030002092297866767\n",
      "P_Optimised 11  = 17.47325208459706\n",
      "P_Measured 11 = 17.5\n",
      "Error  P 11  value = 0.026747915402939526\n"
     ]
    },
    {
     "data": {
      "image/png": "[encoded data removed]",
      "text/plain": [
       "<Figure size 432x288 with 1 Axes>"
      ]
     },
     "metadata": {
      "needs_background": "light"
     },
     "output_type": "display_data"
    }
   ],
   "source": [
    "from matplotlib import pyplot\n",
    "import torch as t\n",
    "from torch.autograd import Variable\n",
    "import matplotlib\n",
    "import matplotlib.pyplot as plt\n",
    "import matplotlib.cm as cm\n",
    "import numpy as np\n",
    "import math as m\n",
    "\n",
    "x1=np.array([0.0,0.1,0.2,0.3,0.4,0.5,0.6,0.7,0.8,0.9,1.0])\n",
    "x2= 1 - (x1)\n",
    "p_i=np.array([28.1,34.4,36.7,36.9,36.8,36.7,36.5,35.4,32.9,27.7,17.5])\n",
    "\n",
    "T=20\n",
    "aw1=8.07131\n",
    "aw2=1730.63\n",
    "aw3=233.426\n",
    "\n",
    "ad1=7.43155\n",
    "ad2=1554.679\n",
    "ad3=240.337\n",
    "\n",
    "lpw= aw1 - (aw2/(T+aw3))\n",
    "Psat_water= 10 ** lpw\n",
    "\n",
    "lpd= ad1 - (ad2/(T+ad3))\n",
    "Psat_dioxane= 10 ** lpd\n",
    "\n",
    "x = Variable(t.tensor([1.0, 1.0]), requires_grad=True)\n",
    "s = 0.001\n",
    "\n",
    "for i in range(100):  \n",
    "    for i in range(0,11):        \n",
    "        loss = (((x1[i]*t.exp(x[0]*((x[1]*x2[i])/(x[0]*x1[i]+x[1]*x2[i]))**2)*Psat_water) + (x2[i]*t.exp( x[1]*((x[0]*x1[i])/(x[0]*x1[i]+x[1]*x2[i]))**2)*Psat_dioxane)) - p_i[i])**2    \n",
    "        loss.backward()\n",
    "    x.grad.numpy()\n",
    "    with t.no_grad():\n",
    "       x -= s * x.grad       \n",
    "       x.grad.zero_()       \n",
    "print(x.data.numpy())\n",
    "print(loss.data.numpy())\n",
    "for i in range(0,11):\n",
    "  P_opt = ((x1[i]*m.exp(x[0]*((x[1]*x2[i])/(x[0]*x1[i]+x[1]*x2[i]))**2)*Psat_water) + (x2[i]*m.exp( x[1]*((x[0]*x1[i])/(x[0]*x1[i]+x[1]*x2[i]))**2)*Psat_dioxane))\n",
    "  print(\"P_Optimised\",i+1,\" =\",P_opt)\n",
    "  print(\"P_Measured\",i+1, \"=\", p_i[i])\n",
    "  print(\"Error  P\",i+1,\" value =\" , p_i[i]-P_opt)\n",
    "pyplot.scatter(x1,p_i)\n",
    "#pyplot.scatter(x1,P_opt)\n",
    "pyplot.show()"
   ]
  },
  {
   "cell_type": "markdown",
   "id": "fc047031",
   "metadata": {},
   "source": [
    "# Problem_2 Bayesian Optimisation"
   ]
  },
  {
   "cell_type": "code",
   "execution_count": 32,
   "id": "b5f112ea",
   "metadata": {},
   "outputs": [
    {
     "name": "stdout",
     "output_type": "stream",
     "text": [
      "|   iter    |  target   |     x     |     y     |\n",
      "-------------------------------------------------\n",
      "| \u001b[0m 1       \u001b[0m | \u001b[0m 0.265   \u001b[0m | \u001b[0m-0.4979  \u001b[0m | \u001b[0m 0.8813  \u001b[0m |\n",
      "| \u001b[0m 2       \u001b[0m | \u001b[0m-110.1   \u001b[0m | \u001b[0m-2.999   \u001b[0m | \u001b[0m-0.7907  \u001b[0m |\n",
      "| \u001b[0m 3       \u001b[0m | \u001b[0m-0.4933  \u001b[0m | \u001b[0m-0.3849  \u001b[0m | \u001b[0m 1.039   \u001b[0m |\n",
      "| \u001b[0m 4       \u001b[0m | \u001b[0m-0.2833  \u001b[0m | \u001b[0m 1.599   \u001b[0m | \u001b[0m-0.5696  \u001b[0m |\n",
      "| \u001b[0m 5       \u001b[0m | \u001b[0m-162.9   \u001b[0m | \u001b[0m 3.0     \u001b[0m | \u001b[0m 2.0     \u001b[0m |\n",
      "| \u001b[0m 6       \u001b[0m | \u001b[0m-47.77   \u001b[0m | \u001b[0m 0.3665  \u001b[0m | \u001b[0m-2.0     \u001b[0m |\n",
      "| \u001b[0m 7       \u001b[0m | \u001b[0m-150.9   \u001b[0m | \u001b[0m 3.0     \u001b[0m | \u001b[0m-2.0     \u001b[0m |\n",
      "| \u001b[0m 8       \u001b[0m | \u001b[0m-0.7638  \u001b[0m | \u001b[0m 0.4683  \u001b[0m | \u001b[0m-0.02769 \u001b[0m |\n",
      "| \u001b[0m 9       \u001b[0m | \u001b[0m-48.27   \u001b[0m | \u001b[0m-2.043   \u001b[0m | \u001b[0m 2.0     \u001b[0m |\n",
      "| \u001b[0m 10      \u001b[0m | \u001b[0m-2.236   \u001b[0m | \u001b[0m 1.314   \u001b[0m | \u001b[0m 0.6422  \u001b[0m |\n",
      "| \u001b[0m 11      \u001b[0m | \u001b[0m-50.26   \u001b[0m | \u001b[0m 0.5766  \u001b[0m | \u001b[0m 2.0     \u001b[0m |\n",
      "| \u001b[0m 12      \u001b[0m | \u001b[0m-52.97   \u001b[0m | \u001b[0m-1.299   \u001b[0m | \u001b[0m-2.0     \u001b[0m |\n",
      "| \u001b[0m 13      \u001b[0m | \u001b[0m-1.06    \u001b[0m | \u001b[0m-0.7025  \u001b[0m | \u001b[0m-0.5363  \u001b[0m |\n",
      "| \u001b[0m 14      \u001b[0m | \u001b[0m-7.993   \u001b[0m | \u001b[0m 2.197   \u001b[0m | \u001b[0m 0.07143 \u001b[0m |\n",
      "| \u001b[0m 15      \u001b[0m | \u001b[0m-48.19   \u001b[0m | \u001b[0m-0.8016  \u001b[0m | \u001b[0m 2.0     \u001b[0m |\n",
      "| \u001b[0m 16      \u001b[0m | \u001b[0m-1.426   \u001b[0m | \u001b[0m-1.507   \u001b[0m | \u001b[0m 0.2863  \u001b[0m |\n",
      "| \u001b[0m 17      \u001b[0m | \u001b[0m-107.6   \u001b[0m | \u001b[0m-3.0     \u001b[0m | \u001b[0m 1.181   \u001b[0m |\n",
      "=================================================\n",
      "{'target': 0.2650082867644827, 'params': {'x': -0.4978679717845562, 'y': 0.8812979737686324}}\n"
     ]
    }
   ],
   "source": [
    "\n",
    "from bayes_opt import BayesianOptimization\n",
    "from matplotlib import pyplot\n",
    "\n",
    "def function(x, y):\n",
    "    return -((4-2.1*x**2+(x**4)/3)*x**2+x*y+(-4+4*y**2)*y**2)\n",
    "pbounds = {'x': (-3, 3), 'y': (-2, 2)}\n",
    "\n",
    "optimizer = BayesianOptimization(f=function,pbounds=pbounds,random_state=1)\n",
    "\n",
    "optimizer.maximize(init_points=2,n_iter=15)\n",
    "print(optimizer.max)\n",
    "\n"
   ]
  },
  {
   "cell_type": "code",
   "execution_count": null,
   "id": "e893de33",
   "metadata": {},
   "outputs": [],
   "source": [
    "Scrap"
   ]
  },
  {
   "cell_type": "code",
   "execution_count": 26,
   "id": "54df5f05",
   "metadata": {},
   "outputs": [],
   "source": [
    "T=20\n",
    "aw1=8.07131\n",
    "aw2=1730.63\n",
    "aw3=233.426\n",
    "\n",
    "ad1=7.43155\n",
    "ad2=1554.679\n",
    "ad3=240.337\n",
    "\n",
    "lpw= aw1 - (aw2/(T+aw3))\n",
    "Psat_water= 10 ** lpw\n",
    "\n",
    "lpd= ad1 - (ad2/(T+ad3))\n",
    "Psat_dioxane= 10 ** lpd\n",
    "\n",
    "print (Psat_water)\n",
    "\n",
    "\n",
    "\n"
   ]
  },
  {
   "cell_type": "code",
   "execution_count": null,
   "id": "82d83122",
   "metadata": {},
   "outputs": [],
   "source": [
    "    "
   ]
  }
 ],
 "metadata": {
  "kernelspec": {
   "display_name": "Python 3",
   "language": "python",
   "name": "python3"
  },
  "language_info": {
   "codemirror_mode": {
    "name": "ipython",
    "version": 3
   },
   "file_extension": ".py",
   "mimetype": "text/x-python",
   "name": "python",
   "nbconvert_exporter": "python",
   "pygments_lexer": "ipython3",
   "version": "3.8.8"
  }
 },
 "nbformat": 4,
 "nbformat_minor": 5
}
